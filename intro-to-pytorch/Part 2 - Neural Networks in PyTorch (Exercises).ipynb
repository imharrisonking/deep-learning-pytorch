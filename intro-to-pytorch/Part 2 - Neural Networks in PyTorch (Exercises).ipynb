{
 "cells": [
  {
   "cell_type": "markdown",
   "metadata": {},
   "source": [
    "# Neural networks with PyTorch\n",
    "\n",
    "Deep learning networks tend to be massive with dozens or hundreds of layers, that's where the term \"deep\" comes from. You can build one of these deep networks using only weight matrices as we did in the previous notebook, but in general it's very cumbersome and difficult to implement. PyTorch has a nice module `nn` that provides a nice way to efficiently build large neural networks."
   ]
  },
  {
   "cell_type": "code",
   "execution_count": 19,
   "metadata": {
    "collapsed": true
   },
   "outputs": [],
   "source": [
    "# Import necessary packages\n",
    "\n",
    "%matplotlib inline\n",
    "%config InlineBackend.figure_format = 'retina'\n",
    "\n",
    "import numpy as np\n",
    "import torch\n",
    "\n",
    "import helper\n",
    "\n",
    "import matplotlib.pyplot as plt"
   ]
  },
  {
   "cell_type": "markdown",
   "metadata": {},
   "source": [
    "\n",
    "Now we're going to build a larger network that can solve a (formerly) difficult problem, identifying text in an image. Here we'll use the MNIST dataset which consists of greyscale handwritten digits. Each image is 28x28 pixels, you can see a sample below\n",
    "\n",
    "<img src='assets/mnist.png'>\n",
    "\n",
    "Our goal is to build a neural network that can take one of these images and predict the digit in the image.\n",
    "\n",
    "First up, we need to get our dataset. This is provided through the `torchvision` package. The code below will download the MNIST dataset, then create training and test datasets for us. Don't worry too much about the details here, you'll learn more about this later."
   ]
  },
  {
   "cell_type": "code",
   "execution_count": 20,
   "metadata": {},
   "outputs": [],
   "source": [
    "# The MNIST datasets are hosted on yann.lecun.com that has moved under CloudFlare protection\n",
    "# Run this script to enable the datasets download\n",
    "# Reference: https://github.com/pytorch/vision/issues/1938\n",
    "\n",
    "from six.moves import urllib\n",
    "opener = urllib.request.build_opener()\n",
    "opener.addheaders = [('User-agent', 'Mozilla/5.0')]\n",
    "urllib.request.install_opener(opener)"
   ]
  },
  {
   "cell_type": "code",
   "execution_count": 21,
   "metadata": {
    "collapsed": true
   },
   "outputs": [],
   "source": [
    "### Run this cell\n",
    "\n",
    "from torchvision import datasets, transforms\n",
    "\n",
    "# Define a transform to normalize the data\n",
    "transform = transforms.Compose([transforms.ToTensor(),\n",
    "                              transforms.Normalize((0.5,), (0.5,)),\n",
    "                              ])\n",
    "\n",
    "# Download and load the training data\n",
    "trainset = datasets.MNIST('~/.pytorch/MNIST_data/', download=True, train=True, transform=transform)\n",
    "trainloader = torch.utils.data.DataLoader(trainset, batch_size=64, shuffle=True)"
   ]
  },
  {
   "cell_type": "markdown",
   "metadata": {},
   "source": [
    "We have the training data loaded into `trainloader` and we make that an iterator with `iter(trainloader)`. Later, we'll use this to loop through the dataset for training, like\n",
    "\n",
    "```python\n",
    "for image, label in trainloader:\n",
    "    ## do things with images and labels\n",
    "```\n",
    "\n",
    "You'll notice I created the `trainloader` with a batch size of 64, and `shuffle=True`. The batch size is the number of images we get in one iteration from the data loader and pass through our network, often called a *batch*. And `shuffle=True` tells it to shuffle the dataset every time we start going through the data loader again. But here I'm just grabbing the first batch so we can check out the data. We can see below that `images` is just a tensor with size `(64, 1, 28, 28)`. So, 64 images per batch, 1 color channel, and 28x28 images."
   ]
  },
  {
   "cell_type": "code",
   "execution_count": 36,
   "metadata": {
    "collapsed": true
   },
   "outputs": [
    {
     "name": "stdout",
     "output_type": "stream",
     "text": [
      "<class 'torch.Tensor'>\n",
      "torch.Size([64, 1, 28, 28])\n",
      "torch.Size([64])\n"
     ]
    }
   ],
   "source": [
    "dataiter = iter(trainloader)\n",
    "images, labels = next(dataiter)\n",
    "print(type(images))\n",
    "print(images.shape)\n",
    "print(labels.shape)"
   ]
  },
  {
   "cell_type": "markdown",
   "metadata": {},
   "source": [
    "This is what one of the images looks like. "
   ]
  },
  {
   "cell_type": "code",
   "execution_count": 23,
   "metadata": {
    "collapsed": true
   },
   "outputs": [
    {
     "data": {
      "text/plain": [
       "<matplotlib.image.AxesImage at 0x2be3b639c00>"
      ]
     },
     "execution_count": 23,
     "metadata": {},
     "output_type": "execute_result"
    },
    {
     "data": {
      "image/png": "[encoded data removed]",
      "text/plain": [
       "<Figure size 640x480 with 1 Axes>"
      ]
     },
     "metadata": {
      "image/png": {
       "height": 413,
       "width": 417
      }
     },
     "output_type": "display_data"
    }
   ],
   "source": [
    "plt.imshow(images[1].numpy().squeeze(), cmap='Greys_r')"
   ]
  },
  {
   "cell_type": "markdown",
   "metadata": {},
   "source": [
    "First, let's try to build a simple network for this dataset using weight matrices and matrix multiplications. Then, we'll see how to do it using PyTorch's `nn` module which provides a much more convenient and powerful method for defining network architectures.\n",
    "\n",
    "The networks you've seen so far are called *fully-connected* or *dense* networks. Each unit in one layer is connected to each unit in the next layer. In fully-connected networks, the input to each layer must be a one-dimensional vector (which can be stacked into a 2D tensor as a batch of multiple examples). However, our images are 28x28 2D tensors, so we need to convert them into 1D vectors. Thinking about sizes, we need to convert the batch of images with shape `(64, 1, 28, 28)` to a have a shape of `(64, 784)`, 784 is 28 times 28. This is typically called *flattening*, we flattened the 2D images into 1D vectors.\n",
    "\n",
    "Previously you built a network with one output unit. Here we need 10 output units, one for each digit. We want our network to predict the digit shown in an image, so what we'll do is calculate probabilities that the image is of any one digit or class. This ends up being a discrete probability distribution over the classes (digits) that tells us the most likely class for the image. That means we need 10 output units for the 10 classes (digits). We'll see how to convert the network output into a probability distribution next.\n",
    "\n",
    "> **Exercise:** Flatten the batch of images `images`. Then build a multi-layer network with 784 input units, 256 hidden units, and 10 output units using random tensors for the weights and biases. For now, use a sigmoid activation for the hidden layer. Leave the output layer without an activation, we'll add one that gives us a probability distribution next."
   ]
  },
  {
   "cell_type": "code",
   "execution_count": 24,
   "metadata": {
    "collapsed": true
   },
   "outputs": [
    {
     "name": "stdout",
     "output_type": "stream",
     "text": [
      "torch.Size([64, 10])\n",
      "tensor([[ 5.6877e+00, -4.9342e+00, -9.3630e+00,  1.9472e+01, -4.4499e+00,\n",
      "          1.1713e+01, -8.3061e+00, -1.7491e+01,  4.0447e+00, -3.1554e+00],\n",
      "        [ 3.2230e+00,  4.0542e-01, -6.9521e+00,  8.8543e+00, -2.8269e-01,\n",
      "          1.0736e+01, -1.8331e+01, -1.0790e+01,  1.4336e+01, -6.4820e+00],\n",
      "        [ 6.2460e+00, -4.0506e+00, -1.5954e+00,  4.0687e+00,  2.3145e+00,\n",
      "          1.2196e+01, -6.1256e+00, -1.9693e+01,  7.7635e+00, -8.8109e+00],\n",
      "        [ 9.7515e+00,  5.6544e+00, -4.0302e+00,  1.3411e+01,  5.3911e+00,\n",
      "          7.4046e+00, -1.4648e+01, -1.1732e+01,  7.0490e+00, -1.0667e+01],\n",
      "        [ 1.3373e+00, -5.4428e+00, -7.8585e+00,  1.8250e+01,  2.8883e+00,\n",
      "          1.5535e+01, -9.4378e+00, -7.6275e+00,  6.9132e+00,  8.9946e-01],\n",
      "        [ 9.9669e+00,  6.1957e+00,  9.9422e+00,  9.6666e+00,  2.1911e+00,\n",
      "          1.1226e+01,  4.9683e+00, -1.7867e+00,  2.6161e+00, -8.2075e+00],\n",
      "        [ 3.4330e+00,  5.6441e+00,  6.5685e+00,  9.8362e+00, -2.8036e+00,\n",
      "          6.9866e+00, -8.6972e+00, -1.6219e+01,  6.9542e+00,  9.2993e+00],\n",
      "        [ 7.5704e+00, -7.6629e+00, -6.5283e+00,  6.7084e+00, -1.0292e+01,\n",
      "          1.1352e+01,  7.0672e-01, -1.3179e+01,  6.8133e+00, -1.7165e+01],\n",
      "        [ 4.6008e+00, -1.0639e+00, -8.7139e+00,  9.6563e+00,  6.5801e+00,\n",
      "          1.3074e+01, -1.2352e+01, -1.4841e+01,  8.1578e+00, -1.0971e+00],\n",
      "        [ 2.3464e+00, -7.4811e-01,  1.5993e+00,  8.0201e+00,  4.7086e+00,\n",
      "          3.8729e+00, -3.5300e+00, -1.3690e+01,  1.5423e+01,  2.8538e+00],\n",
      "        [ 1.3299e+01, -5.1887e+00, -8.7201e+00,  5.0722e-01,  4.3994e+00,\n",
      "          1.7686e+00, -7.7749e+00, -8.0962e+00,  1.1498e+01, -1.8747e+00],\n",
      "        [ 4.9043e+00,  1.1556e+01, -8.1949e-02,  1.0372e+01,  2.1206e+00,\n",
      "         -4.3379e-01, -7.2676e+00, -1.2752e+01,  1.4896e+01,  2.7718e+00],\n",
      "        [ 1.0858e+01, -3.8800e+00, -1.5953e+01,  2.1581e+00, -8.0796e-01,\n",
      "         -4.7544e+00, -2.4752e+00, -4.8666e+00,  8.1601e+00,  6.4082e+00],\n",
      "        [ 3.3991e+00, -1.0733e+01,  5.8811e+00,  3.6387e+00, -5.9165e+00,\n",
      "          9.6090e+00,  3.5392e+00, -1.2771e+01,  1.4546e+01,  6.9935e+00],\n",
      "        [ 4.9488e+00,  7.5169e+00, -1.5095e+01,  1.1463e+01, -1.2670e+00,\n",
      "          3.9590e+00, -1.7672e+01, -6.2875e+00,  1.3397e+01, -8.7967e+00],\n",
      "        [ 6.4257e+00,  3.3882e+00, -1.3328e+01,  1.1983e+01, -6.9019e+00,\n",
      "         -5.8180e+00, -8.8785e+00, -1.7595e+01,  7.2184e+00, -2.4868e+00],\n",
      "        [-5.4271e+00,  1.7945e+00, -7.7105e+00,  9.8962e+00,  1.8381e+00,\n",
      "          5.4294e+00, -1.0254e+01, -7.1653e+00,  1.3324e+01,  5.9665e-01],\n",
      "        [ 2.1889e-01, -7.6276e+00, -1.2867e+01,  9.3498e+00, -3.4583e+00,\n",
      "          7.2186e+00, -1.4203e+01, -1.4108e+01,  1.0912e+01, -9.1007e+00],\n",
      "        [ 4.2235e+00,  2.0740e+00, -1.6608e+00,  1.6016e+01,  1.2009e+01,\n",
      "          5.6596e+00, -8.2258e+00, -1.6130e+01,  1.1164e+01,  4.4730e+00],\n",
      "        [-1.8369e+00,  8.6049e+00,  5.3449e-01,  1.5364e+01,  5.5615e+00,\n",
      "          2.4295e+00, -1.5706e+01, -1.1098e+01,  6.8176e+00,  1.0657e+00],\n",
      "        [ 8.6689e+00,  4.6319e+00, -9.8194e+00,  6.9177e+00,  4.9934e-01,\n",
      "          8.3575e+00, -2.7624e+01, -1.7343e+01,  5.6544e+00, -7.8984e-01],\n",
      "        [ 1.7110e+00, -2.7678e+00, -5.0347e+00,  3.5115e+00, -5.8527e+00,\n",
      "          6.9768e+00, -4.2517e+00, -1.2020e+01,  1.1854e+01, -2.4803e+00],\n",
      "        [ 8.8168e+00,  1.2581e+01, -1.4087e+01,  1.0782e+01, -5.9861e+00,\n",
      "          4.6098e+00, -2.9744e+00, -9.6139e+00,  1.1302e+01,  4.5224e+00],\n",
      "        [ 6.7754e+00,  3.9473e+00, -5.2378e+00,  3.4608e+00,  1.2950e+00,\n",
      "          1.3016e+01, -1.9598e+00, -1.5565e+01,  1.2685e+01, -4.5102e-01],\n",
      "        [ 5.9749e+00, -4.0545e+00, -2.0944e+01, -2.7211e-01, -1.1603e+01,\n",
      "          1.1406e+01, -2.2104e+01, -1.7157e+01,  1.5007e+01, -9.2112e+00],\n",
      "        [ 5.2678e+00,  3.9805e-03, -1.5043e+01,  9.8520e+00, -1.3542e-01,\n",
      "          1.0322e+01, -1.9194e+01, -5.8413e+00,  9.0394e+00, -3.2787e+00],\n",
      "        [ 3.2649e+00,  1.4773e+00, -5.9299e+00,  7.7491e+00, -4.0755e+00,\n",
      "          8.6086e+00, -7.4971e+00, -1.3145e+01,  7.8586e+00, -8.2781e+00],\n",
      "        [ 2.9032e+00, -1.5038e+00,  9.8102e-01,  8.2382e+00, -3.6708e+00,\n",
      "          1.5211e+01, -1.3532e+00, -1.2286e+01,  5.6161e+00, -5.6512e+00],\n",
      "        [ 7.2014e+00, -2.1787e+00, -8.2366e+00,  1.7070e+01,  2.6486e+00,\n",
      "          2.8293e+00, -6.7749e+00, -1.9197e+01,  9.1911e+00, -8.0357e+00],\n",
      "        [-7.9128e-02,  9.4930e+00, -9.7316e+00,  2.2836e+01, -7.5220e+00,\n",
      "          2.6463e+00, -2.5978e+00, -1.6071e+01,  8.3157e+00, -1.9429e-01],\n",
      "        [ 5.3889e+00, -1.6039e+00, -5.5907e+00,  1.3344e+01, -3.3922e+00,\n",
      "          8.0831e+00, -4.3306e+00, -1.0446e+01,  1.5890e+01,  2.2759e-01],\n",
      "        [-2.9180e+00, -5.4322e+00, -4.2990e+00,  5.1914e+00, -6.3305e+00,\n",
      "          8.5929e+00,  3.2285e+00, -8.7612e+00,  1.1882e+01,  1.6620e+00],\n",
      "        [ 1.7787e+01, -2.1199e+01, -2.1029e+01, -3.1884e+00, -8.0804e+00,\n",
      "          5.5949e+00, -9.8870e+00, -2.2733e+01,  1.5955e+01, -2.5162e+01],\n",
      "        [ 1.5716e+00,  2.9532e+00,  4.2632e+00,  8.4178e+00,  6.4379e+00,\n",
      "          9.4121e+00, -1.0097e+01, -9.6311e+00,  8.6706e+00,  4.8075e+00],\n",
      "        [ 7.3215e+00, -8.2203e+00, -4.6586e+00,  1.7131e+00, -2.9114e+00,\n",
      "          1.6103e+01, -1.0907e+01, -9.7755e+00,  1.6124e+01, -5.2087e+00],\n",
      "        [ 6.6945e+00,  9.0594e-01,  3.3903e+00,  9.5107e+00,  5.3652e+00,\n",
      "          2.0801e+01, -9.5571e+00, -1.0057e+01,  1.3802e+01, -6.0418e-02],\n",
      "        [-4.1203e+00,  3.3007e+00, -1.9845e+00,  9.8018e+00,  6.4236e+00,\n",
      "          9.4519e+00, -1.3991e+01, -1.3914e+01,  1.0115e+01, -4.1103e+00],\n",
      "        [ 1.3606e+01,  1.4663e+01, -4.5385e+00,  1.1973e+01, -3.2139e+00,\n",
      "         -2.0963e+00, -4.9991e+00, -1.0530e+01,  5.0935e+00,  3.1481e+00],\n",
      "        [-1.7697e-01,  3.3737e+00, -1.1116e+01,  7.0845e+00, -3.5803e-01,\n",
      "         -4.3004e+00, -1.1030e+01, -9.2121e+00,  9.4614e+00,  1.0641e+01],\n",
      "        [ 4.9537e+00, -2.2531e+00, -9.1852e+00,  8.8384e+00, -1.3598e+00,\n",
      "          9.2583e+00, -1.4250e+01, -1.8713e+01,  1.7735e+01, -5.7951e+00],\n",
      "        [ 1.2954e+00,  8.2590e+00, -1.3629e+01,  1.3358e+01, -8.8376e+00,\n",
      "          1.1447e+01,  2.1195e+00, -1.9524e+01,  1.3619e+01, -8.8177e+00],\n",
      "        [ 1.1726e+00, -2.2724e+00, -9.5932e+00,  1.0929e+00, -1.0094e+01,\n",
      "         -2.7022e+00,  4.3589e+00, -1.1011e+01,  9.2169e+00, -2.7155e+00],\n",
      "        [ 3.5648e-01,  9.5788e+00, -8.6688e+00,  1.0653e+01, -7.4088e+00,\n",
      "          1.5930e+00, -1.3618e+01, -9.5398e+00,  1.2619e+01, -1.8563e+00],\n",
      "        [ 5.0023e+00,  6.7724e+00,  2.0679e+00,  1.3699e+01,  9.3203e+00,\n",
      "          9.5881e+00,  1.7063e+00, -1.5956e+01, -4.5215e+00, -9.8478e+00],\n",
      "        [ 3.6844e+00, -3.7874e+00, -8.4857e+00,  1.0941e+01, -1.5344e+00,\n",
      "          5.7363e+00, -8.3960e+00, -1.6205e+01,  6.3716e+00, -2.8683e+00],\n",
      "        [ 1.9676e-01,  6.8310e+00, -9.9395e+00,  5.3928e+00,  4.2136e+00,\n",
      "          5.0034e+00, -1.0042e+01, -1.4064e+01,  8.5806e+00, -4.6826e+00],\n",
      "        [ 5.6324e+00, -4.1498e+00, -5.1814e+00,  8.5736e+00,  1.2853e+00,\n",
      "          7.9132e+00, -1.3294e+01, -1.3026e+01,  1.2385e+01,  2.6583e+00],\n",
      "        [ 3.9202e+00,  1.8991e+00, -9.3335e-01,  1.7350e+01, -2.4757e+00,\n",
      "          3.7189e+00, -3.2775e-01, -1.2589e+01,  1.6414e+01,  4.7071e+00],\n",
      "        [ 7.6315e+00, -1.7435e+00, -4.8341e+00,  2.1445e+01, -1.1330e+01,\n",
      "          6.1992e+00, -1.3424e+01, -1.4631e+01,  5.3589e+00, -6.5188e+00],\n",
      "        [ 1.1712e+01,  6.2194e+00, -1.4301e+00,  9.3812e+00, -3.9737e+00,\n",
      "          4.7424e+00, -4.7631e+00, -1.7763e+01,  1.2181e+01, -1.0086e+01],\n",
      "        [ 1.2092e+01, -4.7933e+00, -3.3802e+00,  7.6174e+00, -1.1132e+01,\n",
      "          1.5419e+01, -2.3187e+00, -1.8699e+01,  1.5817e+01, -6.0344e+00],\n",
      "        [ 1.2248e+01,  1.1367e+01, -5.9724e+00,  1.1711e+01,  8.9629e+00,\n",
      "          1.0004e+01, -1.0936e+01, -9.8852e+00,  1.3378e+01, -6.2937e+00],\n",
      "        [ 7.4351e+00, -3.1223e+00, -7.1791e+00,  1.6753e+01, -7.3752e+00,\n",
      "          7.6528e+00, -4.8932e+00, -1.7898e+01,  1.3521e+01, -1.3261e+01],\n",
      "        [-2.3458e+00,  1.3961e+00,  9.9159e-01,  1.5979e+01,  1.3288e+01,\n",
      "          4.9311e+00, -1.6235e+01, -1.3971e+01,  1.8546e+01,  2.1146e+00],\n",
      "        [ 3.8565e+00, -1.9713e-01, -1.0187e+01,  1.4734e+01,  5.5720e-01,\n",
      "         -7.7828e+00, -1.2250e+01, -1.9272e+01,  5.3077e+00, -5.7090e+00],\n",
      "        [ 1.1578e+01,  5.9519e+00, -6.9005e+00,  1.4069e+01,  2.0617e+00,\n",
      "         -2.3036e-01, -1.4646e+01, -1.3382e+01,  4.3038e+00,  2.1241e+00],\n",
      "        [ 4.0672e+00,  7.6415e+00, -3.7739e+00,  1.4692e+01,  1.9092e+00,\n",
      "          7.2162e-01, -8.5629e+00, -1.2259e+01,  5.6400e+00,  1.3123e+00],\n",
      "        [-5.9126e+00, -4.2885e+00, -7.2068e+00,  4.4680e+00,  1.7565e+00,\n",
      "          1.0249e+01, -7.8561e+00, -7.7429e+00,  1.5636e+01,  5.2099e+00],\n",
      "        [ 1.2416e+01,  7.9346e-01, -1.1296e+01,  1.7074e+01, -4.6633e+00,\n",
      "          5.3808e+00, -1.0460e+01, -1.7548e+01,  8.6473e+00, -3.8049e+00],\n",
      "        [ 9.4843e+00, -3.8968e+00, -1.1479e+01,  1.3609e+01, -4.9872e+00,\n",
      "         -7.6594e+00, -5.0314e+00, -1.1621e+01,  5.9629e+00, -3.8161e+00],\n",
      "        [ 8.8385e+00, -1.7906e+00, -6.3761e+00,  9.7920e+00, -3.1256e+00,\n",
      "          3.0966e+00, -1.3838e+01, -1.5645e+01,  8.9856e+00, -9.3110e+00],\n",
      "        [ 1.4344e+01,  5.0585e+00, -2.3844e+01,  1.9389e+01, -6.8562e-01,\n",
      "         -4.9376e+00, -1.2598e+01, -1.7894e+01,  9.0738e+00,  3.9385e+00],\n",
      "        [ 1.4136e+01,  3.9143e+00, -1.0962e+01,  1.1839e+01,  3.0778e+00,\n",
      "          3.3272e+00, -1.5067e+01, -1.1182e+01,  1.1539e+01, -9.5683e-02],\n",
      "        [ 5.7881e+00,  2.0971e+00, -3.3313e+00,  9.9026e+00, -5.1717e+00,\n",
      "          1.8584e+01, -1.0344e+01, -1.2465e+01,  1.3723e+01,  3.1924e+00]])\n"
     ]
    }
   ],
   "source": [
    "## Your solution\n",
    "# Flatten the input images\n",
    "inputs = images.view(images.shape[0], -1)\n",
    "\n",
    "# Activation function\n",
    "def activation(x):\n",
    "    return 1 / (1 + torch.exp(-x))\n",
    "\n",
    "# Create the parameters\n",
    "W1 = torch.randn(784, 256)\n",
    "B1 = torch.randn(256)\n",
    "\n",
    "W2 = torch.randn(256, 10)\n",
    "B2 = torch.randn(10)\n",
    "\n",
    "# Calculate the hidden output of the network\n",
    "h = activation(torch.mm(inputs, W1) + B1)\n",
    "\n",
    "output = torch.mm(h, W2) + B2\n",
    "print(output.shape)\n",
    "print(output)\n"
   ]
  },
  {
   "cell_type": "markdown",
   "metadata": {},
   "source": [
    "Now we have 10 outputs for our network. We want to pass in an image to our network and get out a probability distribution over the classes that tells us the likely class(es) the image belongs to. Something that looks like this:\n",
    "<img src='assets/image_distribution.png' width=500px>\n",
    "\n",
    "Here we see that the probability for each class is roughly the same. This is representing an untrained network, it hasn't seen any data yet so it just returns a uniform distribution with equal probabilities for each class.\n",
    "\n",
    "To calculate this probability distribution, we often use the [**softmax** function](https://en.wikipedia.org/wiki/Softmax_function). Mathematically this looks like\n",
    "\n",
    "$$\n",
    "\\Large \\sigma(x_i) = \\cfrac{e^{x_i}}{\\sum_k^K{e^{x_k}}}\n",
    "$$\n",
    "\n",
    "What this does is squish each input $x_i$ between 0 and 1 and normalizes the values to give you a proper probability distribution where the probabilites sum up to one.\n",
    "\n",
    "> **Exercise:** Implement a function `softmax` that performs the softmax calculation and returns probability distributions for each example in the batch. Note that you'll need to pay attention to the shapes when doing this. If you have a tensor `a` with shape `(64, 10)` and a tensor `b` with shape `(64,)`, doing `a/b` will give you an error because PyTorch will try to do the division across the columns (called broadcasting) but you'll get a size mismatch. The way to think about this is for each of the 64 examples, you only want to divide by one value, the sum in the denominator. So you need `b` to have a shape of `(64, 1)`. This way PyTorch will divide the 10 values in each row of `a` by the one value in each row of `b`. Pay attention to how you take the sum as well. You'll need to define the `dim` keyword in `torch.sum`. Setting `dim=0` takes the sum across the rows while `dim=1` takes the sum across the columns."
   ]
  },
  {
   "cell_type": "code",
   "execution_count": 25,
   "metadata": {},
   "outputs": [
    {
     "data": {
      "text/plain": [
       "tensor([[2.8630e+08],\n",
       "        [1.7367e+06],\n",
       "        [2.0084e+05],\n",
       "        [6.8784e+05],\n",
       "        [8.9856e+07],\n",
       "        [1.3361e+05],\n",
       "        [3.2784e+04],\n",
       "        [8.8837e+04],\n",
       "        [4.9648e+05],\n",
       "        [4.9954e+06],\n",
       "        [6.9491e+05],\n",
       "        [3.0813e+06],\n",
       "        [5.6041e+04],\n",
       "        [2.0930e+06],\n",
       "        [7.5516e+05],\n",
       "        [1.6196e+05],\n",
       "        [6.3167e+05],\n",
       "        [6.7670e+04],\n",
       "        [9.2638e+06],\n",
       "        [4.7093e+06],\n",
       "        [1.1481e+04],\n",
       "        [1.4172e+05],\n",
       "        [4.2715e+05],\n",
       "        [7.7302e+05],\n",
       "        [3.3812e+06],\n",
       "        [5.8011e+04],\n",
       "        [1.0416e+04],\n",
       "        [4.0400e+06],\n",
       "        [2.5928e+07],\n",
       "        [8.2685e+09],\n",
       "        [8.5861e+06],\n",
       "        [1.5031e+05],\n",
       "        [6.1577e+07],\n",
       "        [2.3434e+04],\n",
       "        [1.9918e+07],\n",
       "        [1.0823e+09],\n",
       "        [5.6143e+04],\n",
       "        [3.3030e+06],\n",
       "        [5.5904e+04],\n",
       "        [5.0417e+07],\n",
       "        [1.5524e+06],\n",
       "        [1.0151e+04],\n",
       "        [3.5891e+05],\n",
       "        [9.1719e+05],\n",
       "        [5.7356e+04],\n",
       "        [6.6911e+03],\n",
       "        [2.4750e+05],\n",
       "        [4.7718e+07],\n",
       "        [2.0590e+09],\n",
       "        [3.2947e+05],\n",
       "        [1.2554e+07],\n",
       "        [1.0926e+06],\n",
       "        [1.9624e+07],\n",
       "        [1.2260e+08],\n",
       "        [2.5065e+06],\n",
       "        [1.3964e+06],\n",
       "        [2.4048e+06],\n",
       "        [6.2018e+06],\n",
       "        [2.6270e+07],\n",
       "        [8.2733e+05],\n",
       "        [3.2794e+04],\n",
       "        [2.6497e+08],\n",
       "        [1.6186e+06],\n",
       "        [1.1865e+08]])"
      ]
     },
     "execution_count": 25,
     "metadata": {},
     "output_type": "execute_result"
    }
   ],
   "source": [
    "torch.sum(torch.exp(output), dim=1).view(-1, 1)"
   ]
  },
  {
   "cell_type": "code",
   "execution_count": 26,
   "metadata": {
    "collapsed": true
   },
   "outputs": [
    {
     "name": "stdout",
     "output_type": "stream",
     "text": [
      "torch.Size([64, 10])\n",
      "tensor([1.0000, 1.0000, 1.0000, 1.0000, 1.0000, 1.0000, 1.0000, 1.0000, 1.0000,\n",
      "        1.0000, 1.0000, 1.0000, 1.0000, 1.0000, 1.0000, 1.0000, 1.0000, 1.0000,\n",
      "        1.0000, 1.0000, 1.0000, 1.0000, 1.0000, 1.0000, 1.0000, 1.0000, 1.0000,\n",
      "        1.0000, 1.0000, 1.0000, 1.0000, 1.0000, 1.0000, 1.0000, 1.0000, 1.0000,\n",
      "        1.0000, 1.0000, 1.0000, 1.0000, 1.0000, 1.0000, 1.0000, 1.0000, 1.0000,\n",
      "        1.0000, 1.0000, 1.0000, 1.0000, 1.0000, 1.0000, 1.0000, 1.0000, 1.0000,\n",
      "        1.0000, 1.0000, 1.0000, 1.0000, 1.0000, 1.0000, 1.0000, 1.0000, 1.0000,\n",
      "        1.0000])\n"
     ]
    }
   ],
   "source": [
    "def softmax(x):\n",
    "    ## TODO: Implement the softmax function here\n",
    "    return torch.exp(x) / torch.sum(torch.exp(x), dim=1).view(-1, 1)\n",
    "\n",
    "# Here, out should be the output of the network in the previous excercise with shape (64,10)\n",
    "probabilities = softmax(output)\n",
    "\n",
    "# Does it have the right shape? Should be (64, 10)\n",
    "print(probabilities.shape)\n",
    "# Does it sum to 1?\n",
    "print(probabilities.sum(dim=1))"
   ]
  },
  {
   "cell_type": "markdown",
   "metadata": {},
   "source": [
    "## Building networks with PyTorch\n",
    "\n",
    "PyTorch provides a module `nn` that makes building networks much simpler. Here I'll show you how to build the same one as above with 784 inputs, 256 hidden units, 10 output units and a softmax output."
   ]
  },
  {
   "cell_type": "code",
   "execution_count": 27,
   "metadata": {
    "collapsed": true
   },
   "outputs": [],
   "source": [
    "from torch import nn"
   ]
  },
  {
   "cell_type": "code",
   "execution_count": 28,
   "metadata": {
    "collapsed": true
   },
   "outputs": [],
   "source": [
    "class Network(nn.Module):\n",
    "    def __init__(self):\n",
    "        super().__init__()\n",
    "        \n",
    "        # Inputs to hidden layer linear transformation\n",
    "        self.hidden = nn.Linear(784, 256)\n",
    "        # Output layer, 10 units - one for each digit\n",
    "        self.output = nn.Linear(256, 10)\n",
    "        \n",
    "        # Define sigmoid activation and softmax output \n",
    "        self.sigmoid = nn.Sigmoid()\n",
    "        self.softmax = nn.Softmax(dim=1)\n",
    "        \n",
    "    def forward(self, x):\n",
    "        # Pass the input tensor through each of our operations\n",
    "        x = self.hidden(x)\n",
    "        x = self.sigmoid(x)\n",
    "        x = self.output(x)\n",
    "        x = self.softmax(x)\n",
    "        \n",
    "        return x"
   ]
  },
  {
   "cell_type": "markdown",
   "metadata": {},
   "source": [
    "Let's go through this bit by bit.\n",
    "\n",
    "```python\n",
    "class Network(nn.Module):\n",
    "```\n",
    "\n",
    "Here we're inheriting from `nn.Module`. Combined with `super().__init__()` this creates a class that tracks the architecture and provides a lot of useful methods and attributes. It is mandatory to inherit from `nn.Module` when you're creating a class for your network. The name of the class itself can be anything.\n",
    "\n",
    "```python\n",
    "self.hidden = nn.Linear(784, 256)\n",
    "```\n",
    "\n",
    "This line creates a module for a linear transformation, $x\\mathbf{W} + b$, with 784 inputs and 256 outputs and assigns it to `self.hidden`. The module automatically creates the weight and bias tensors which we'll use in the `forward` method. You can access the weight and bias tensors once the network (`net`) is created with `net.hidden.weight` and `net.hidden.bias`.\n",
    "\n",
    "```python\n",
    "self.output = nn.Linear(256, 10)\n",
    "```\n",
    "\n",
    "Similarly, this creates another linear transformation with 256 inputs and 10 outputs.\n",
    "\n",
    "```python\n",
    "self.sigmoid = nn.Sigmoid()\n",
    "self.softmax = nn.Softmax(dim=1)\n",
    "```\n",
    "\n",
    "Here I defined operations for the sigmoid activation and softmax output. Setting `dim=1` in `nn.Softmax(dim=1)` calculates softmax across the columns.\n",
    "\n",
    "```python\n",
    "def forward(self, x):\n",
    "```\n",
    "\n",
    "PyTorch networks created with `nn.Module` must have a `forward` method defined. It takes in a tensor `x` and passes it through the operations you defined in the `__init__` method.\n",
    "\n",
    "```python\n",
    "x = self.hidden(x)\n",
    "x = self.sigmoid(x)\n",
    "x = self.output(x)\n",
    "x = self.softmax(x)\n",
    "```\n",
    "\n",
    "Here the input tensor `x` is passed through each operation and reassigned to `x`. We can see that the input tensor goes through the hidden layer, then a sigmoid function, then the output layer, and finally the softmax function. It doesn't matter what you name the variables here, as long as the inputs and outputs of the operations match the network architecture you want to build. The order in which you define things in the `__init__` method doesn't matter, but you'll need to sequence the operations correctly in the `forward` method.\n",
    "\n",
    "Now we can create a `Network` object."
   ]
  },
  {
   "cell_type": "code",
   "execution_count": 29,
   "metadata": {
    "collapsed": true
   },
   "outputs": [
    {
     "data": {
      "text/plain": [
       "Network(\n",
       "  (hidden): Linear(in_features=784, out_features=256, bias=True)\n",
       "  (output): Linear(in_features=256, out_features=10, bias=True)\n",
       "  (sigmoid): Sigmoid()\n",
       "  (softmax): Softmax(dim=1)\n",
       ")"
      ]
     },
     "execution_count": 29,
     "metadata": {},
     "output_type": "execute_result"
    }
   ],
   "source": [
    "# Create the network and look at it's text representation\n",
    "model = Network()\n",
    "model"
   ]
  },
  {
   "cell_type": "markdown",
   "metadata": {},
   "source": [
    "You can define the network somewhat more concisely and clearly using the `torch.nn.functional` module. This is the most common way you'll see networks defined as many operations are simple element-wise functions. We normally import this module as `F`, `import torch.nn.functional as F`."
   ]
  },
  {
   "cell_type": "code",
   "execution_count": 30,
   "metadata": {
    "collapsed": true
   },
   "outputs": [
    {
     "data": {
      "text/plain": [
       "Network(\n",
       "  (hidden): Linear(in_features=784, out_features=256, bias=True)\n",
       "  (output): Linear(in_features=256, out_features=10, bias=True)\n",
       ")"
      ]
     },
     "execution_count": 30,
     "metadata": {},
     "output_type": "execute_result"
    }
   ],
   "source": [
    "import torch.nn.functional as F\n",
    "\n",
    "class Network(nn.Module):\n",
    "    def __init__(self):\n",
    "        super().__init__()\n",
    "        # Inputs to hidden layer linear transformation\n",
    "        self.hidden = nn.Linear(784, 256)\n",
    "        # Output layer, 10 units - one for each digit\n",
    "        self.output = nn.Linear(256, 10)\n",
    "        \n",
    "    def forward(self, x):\n",
    "        # Hidden layer with sigmoid activation\n",
    "        x = F.sigmoid(self.hidden(x))\n",
    "        # Output layer with softmax activation\n",
    "        x = F.softmax(self.output(x), dim=1)\n",
    "        \n",
    "        return x\n",
    "\n",
    "model = Network()\n",
    "model"
   ]
  },
  {
   "cell_type": "markdown",
   "metadata": {},
   "source": [
    "### Activation functions\n",
    "\n",
    "So far we've only been looking at the sigmoid activation function, but in general any function can be used as an activation function. The only requirement is that for a network to approximate a non-linear function, the activation functions must be non-linear. Here are a few more examples of common activation functions: Tanh (hyperbolic tangent), and ReLU (rectified linear unit).\n",
    "\n",
    "<img src=\"assets/activation.png\" width=700px>\n",
    "\n",
    "In practice, the ReLU function is used almost exclusively as the activation function for hidden layers."
   ]
  },
  {
   "cell_type": "markdown",
   "metadata": {},
   "source": [
    "### Your Turn to Build a Network\n",
    "\n",
    "<img src=\"assets/mlp_mnist.png\" width=600px>\n",
    "\n",
    "> **Exercise:** Create a network with 784 input units, a hidden layer with 128 units and a ReLU activation, then a hidden layer with 64 units and a ReLU activation, and finally an output layer with a softmax activation as shown above. You can use a ReLU activation with the `nn.ReLU` module or `F.relu` function.\n",
    "\n",
    "It's good practice to name your layers by their type of network, for instance 'fc' to represent a fully-connected layer. As you code your solution, use `fc1`, `fc2`, and `fc3` as your layer names."
   ]
  },
  {
   "cell_type": "code",
   "execution_count": 31,
   "metadata": {
    "collapsed": true,
    "scrolled": true
   },
   "outputs": [
    {
     "data": {
      "text/plain": [
       "Network(\n",
       "  (fc1): Linear(in_features=784, out_features=128, bias=True)\n",
       "  (fc2): Linear(in_features=128, out_features=64, bias=True)\n",
       "  (fc3): Linear(in_features=64, out_features=10, bias=True)\n",
       ")"
      ]
     },
     "execution_count": 31,
     "metadata": {},
     "output_type": "execute_result"
    }
   ],
   "source": [
    "## Your solution here\n",
    "import torch.nn.functional as F\n",
    "\n",
    "class Network(nn.Module):\n",
    "    def __init__(self):\n",
    "        super().__init__()\n",
    "        # Inputs to hidden layer linear transformation\n",
    "        self.fc1 = nn.Linear(784, 128)\n",
    "        self.fc2 = nn.Linear(128, 64)\n",
    "        self.fc3 = nn.Linear(64, 10)\n",
    "    \n",
    "    def forward(self, x):\n",
    "        # First hidden layer with relu activation\n",
    "        x = F.relu(self.fc1(x))\n",
    "\n",
    "        # Second hidden layer with relu activation\n",
    "        x = F.relu(self.fc2(x))\n",
    "\n",
    "        # Output layer with softmax activation\n",
    "        x = F.softmax(self.fc3(x), dim=1)\n",
    "        \n",
    "        return x\n",
    "\n",
    "model = Network()\n",
    "model"
   ]
  },
  {
   "cell_type": "markdown",
   "metadata": {},
   "source": [
    "### Initializing weights and biases\n",
    "\n",
    "The weights and such are automatically initialized for you, but it's possible to customize how they are initialized. The weights and biases are tensors attached to the layer you defined, you can get them with `model.fc1.weight` for instance."
   ]
  },
  {
   "cell_type": "code",
   "execution_count": 32,
   "metadata": {
    "collapsed": true
   },
   "outputs": [
    {
     "name": "stdout",
     "output_type": "stream",
     "text": [
      "Parameter containing:\n",
      "tensor([[ 0.0178, -0.0302, -0.0213,  ..., -0.0006, -0.0321,  0.0104],\n",
      "        [ 0.0073, -0.0259, -0.0168,  ...,  0.0129,  0.0122,  0.0263],\n",
      "        [-0.0057,  0.0287, -0.0272,  ..., -0.0241, -0.0350, -0.0333],\n",
      "        ...,\n",
      "        [ 0.0162, -0.0160,  0.0068,  ...,  0.0345,  0.0309,  0.0219],\n",
      "        [ 0.0097,  0.0062, -0.0342,  ...,  0.0161,  0.0232, -0.0072],\n",
      "        [-0.0298,  0.0143, -0.0330,  ...,  0.0167, -0.0047,  0.0288]],\n",
      "       requires_grad=True)\n",
      "Parameter containing:\n",
      "tensor([ 0.0091, -0.0042, -0.0294, -0.0207, -0.0143,  0.0004,  0.0212,  0.0094,\n",
      "        -0.0019, -0.0302,  0.0226, -0.0189, -0.0249,  0.0050, -0.0199,  0.0223,\n",
      "         0.0312,  0.0207, -0.0289,  0.0111,  0.0262,  0.0104, -0.0029, -0.0219,\n",
      "        -0.0128,  0.0097,  0.0115, -0.0182,  0.0035,  0.0191,  0.0153,  0.0326,\n",
      "        -0.0048,  0.0133,  0.0139,  0.0291,  0.0261, -0.0291, -0.0105,  0.0078,\n",
      "         0.0357,  0.0052, -0.0262, -0.0137,  0.0093,  0.0093,  0.0031,  0.0293,\n",
      "         0.0334,  0.0330,  0.0317, -0.0076, -0.0281,  0.0245, -0.0266, -0.0326,\n",
      "         0.0268,  0.0220,  0.0339, -0.0196, -0.0155,  0.0097, -0.0023,  0.0319,\n",
      "         0.0208, -0.0263, -0.0134,  0.0314,  0.0316, -0.0023,  0.0046,  0.0341,\n",
      "        -0.0093, -0.0195, -0.0200, -0.0216,  0.0250, -0.0321, -0.0166, -0.0345,\n",
      "         0.0046, -0.0266,  0.0052, -0.0041,  0.0112, -0.0176,  0.0129, -0.0200,\n",
      "        -0.0156, -0.0304, -0.0288, -0.0285,  0.0056, -0.0153, -0.0207,  0.0204,\n",
      "        -0.0349, -0.0145,  0.0343,  0.0312, -0.0113, -0.0057,  0.0220, -0.0305,\n",
      "         0.0035,  0.0028, -0.0003, -0.0309, -0.0354, -0.0284,  0.0288,  0.0327,\n",
      "        -0.0237,  0.0164,  0.0131, -0.0349, -0.0180,  0.0087,  0.0011, -0.0219,\n",
      "        -0.0349, -0.0300, -0.0349,  0.0220, -0.0276,  0.0177, -0.0087,  0.0113],\n",
      "       requires_grad=True)\n"
     ]
    }
   ],
   "source": [
    "print(model.fc1.weight)\n",
    "print(model.fc1.bias)"
   ]
  },
  {
   "cell_type": "markdown",
   "metadata": {},
   "source": [
    "For custom initialization, we want to modify these tensors in place. These are actually autograd *Variables*, so we need to get back the actual tensors with `model.fc1.weight.data`. Once we have the tensors, we can fill them with zeros (for biases) or random normal values."
   ]
  },
  {
   "cell_type": "code",
   "execution_count": 33,
   "metadata": {
    "collapsed": true
   },
   "outputs": [
    {
     "data": {
      "text/plain": [
       "tensor([0., 0., 0., 0., 0., 0., 0., 0., 0., 0., 0., 0., 0., 0., 0., 0., 0., 0., 0., 0., 0., 0., 0., 0.,\n",
       "        0., 0., 0., 0., 0., 0., 0., 0., 0., 0., 0., 0., 0., 0., 0., 0., 0., 0., 0., 0., 0., 0., 0., 0.,\n",
       "        0., 0., 0., 0., 0., 0., 0., 0., 0., 0., 0., 0., 0., 0., 0., 0., 0., 0., 0., 0., 0., 0., 0., 0.,\n",
       "        0., 0., 0., 0., 0., 0., 0., 0., 0., 0., 0., 0., 0., 0., 0., 0., 0., 0., 0., 0., 0., 0., 0., 0.,\n",
       "        0., 0., 0., 0., 0., 0., 0., 0., 0., 0., 0., 0., 0., 0., 0., 0., 0., 0., 0., 0., 0., 0., 0., 0.,\n",
       "        0., 0., 0., 0., 0., 0., 0., 0.])"
      ]
     },
     "execution_count": 33,
     "metadata": {},
     "output_type": "execute_result"
    }
   ],
   "source": [
    "# Set biases to all zeros\n",
    "model.fc1.bias.data.fill_(0)"
   ]
  },
  {
   "cell_type": "code",
   "execution_count": 34,
   "metadata": {
    "collapsed": true
   },
   "outputs": [
    {
     "data": {
      "text/plain": [
       "tensor([[-0.0113,  0.0038,  0.0036,  ..., -0.0055,  0.0080, -0.0047],\n",
       "        [ 0.0158, -0.0056, -0.0023,  ...,  0.0103,  0.0051,  0.0091],\n",
       "        [-0.0244, -0.0145,  0.0093,  ..., -0.0117,  0.0103,  0.0090],\n",
       "        ...,\n",
       "        [-0.0024,  0.0028, -0.0016,  ..., -0.0153,  0.0033, -0.0070],\n",
       "        [ 0.0047, -0.0131, -0.0038,  ..., -0.0103, -0.0043,  0.0123],\n",
       "        [ 0.0097, -0.0011, -0.0121,  ..., -0.0008,  0.0010,  0.0113]])"
      ]
     },
     "execution_count": 34,
     "metadata": {},
     "output_type": "execute_result"
    }
   ],
   "source": [
    "# sample from random normal with standard dev = 0.01\n",
    "model.fc1.weight.data.normal_(std=0.01)"
   ]
  },
  {
   "cell_type": "markdown",
   "metadata": {},
   "source": [
    "### Forward pass\n",
    "\n",
    "Now that we have a network, let's see what happens when we pass in an image."
   ]
  },
  {
   "cell_type": "code",
   "execution_count": 37,
   "metadata": {
    "collapsed": true
   },
   "outputs": [
    {
     "data": {
      "image/png": "[encoded data removed]",
      "text/plain": [
       "<Figure size 600x900 with 2 Axes>"
      ]
     },
     "metadata": {
      "image/png": {
       "height": 327,
       "width": 589
      }
     },
     "output_type": "display_data"
    }
   ],
   "source": [
    "# Grab some data \n",
    "dataiter = iter(trainloader)\n",
    "images, labels = next(dataiter)\n",
    "\n",
    "# Resize images into a 1D vector, new shape is (batch size, color channels, image pixels) \n",
    "images.resize_(64, 1, 784)\n",
    "# or images.resize_(images.shape[0], 1, 784) to automatically get batch size\n",
    "\n",
    "# Forward pass through the network\n",
    "img_idx = 0\n",
    "ps = model.forward(images[img_idx,:])\n",
    "\n",
    "img = images[img_idx]\n",
    "helper.view_classify(img.view(1, 28, 28), ps)"
   ]
  },
  {
   "cell_type": "markdown",
   "metadata": {},
   "source": [
    "As you can see above, our network has basically no idea what this digit is. It's because we haven't trained it yet, all the weights are random!\n",
    "\n",
    "### Using `nn.Sequential`\n",
    "\n",
    "PyTorch provides a convenient way to build networks like this where a tensor is passed sequentially through operations, `nn.Sequential` ([documentation](https://pytorch.org/docs/master/nn.html#torch.nn.Sequential)). Using this to build the equivalent network:"
   ]
  },
  {
   "cell_type": "code",
   "execution_count": 38,
   "metadata": {
    "collapsed": true
   },
   "outputs": [
    {
     "name": "stdout",
     "output_type": "stream",
     "text": [
      "Sequential(\n",
      "  (0): Linear(in_features=784, out_features=128, bias=True)\n",
      "  (1): ReLU()\n",
      "  (2): Linear(in_features=128, out_features=64, bias=True)\n",
      "  (3): ReLU()\n",
      "  (4): Linear(in_features=64, out_features=10, bias=True)\n",
      "  (5): Softmax(dim=1)\n",
      ")\n"
     ]
    },
    {
     "data": {
      "image/png": "[encoded data removed]",
      "text/plain": [
       "<Figure size 600x900 with 2 Axes>"
      ]
     },
     "metadata": {
      "image/png": {
       "height": 327,
       "width": 589
      }
     },
     "output_type": "display_data"
    }
   ],
   "source": [
    "# Hyperparameters for our network\n",
    "input_size = 784\n",
    "hidden_sizes = [128, 64]\n",
    "output_size = 10\n",
    "\n",
    "# Build a feed-forward network\n",
    "model = nn.Sequential(nn.Linear(input_size, hidden_sizes[0]),\n",
    "                      nn.ReLU(),\n",
    "                      nn.Linear(hidden_sizes[0], hidden_sizes[1]),\n",
    "                      nn.ReLU(),\n",
    "                      nn.Linear(hidden_sizes[1], output_size),\n",
    "                      nn.Softmax(dim=1))\n",
    "print(model)\n",
    "\n",
    "# Forward pass through the network and display output\n",
    "images, labels = next(iter(trainloader))\n",
    "images.resize_(images.shape[0], 1, 784)\n",
    "ps = model.forward(images[0,:])\n",
    "helper.view_classify(images[0].view(1, 28, 28), ps)"
   ]
  },
  {
   "cell_type": "markdown",
   "metadata": {},
   "source": [
    "Here our model is the same as before: 784 input units, a hidden layer with 128 units, ReLU activation, 64 unit hidden layer, another ReLU, then the output layer with 10 units, and the softmax output.\n",
    "\n",
    "The operations are available by passing in the appropriate index. For example, if you want to get first Linear operation and look at the weights, you'd use `model[0]`."
   ]
  },
  {
   "cell_type": "code",
   "execution_count": 39,
   "metadata": {
    "collapsed": true
   },
   "outputs": [
    {
     "name": "stdout",
     "output_type": "stream",
     "text": [
      "Linear(in_features=784, out_features=128, bias=True)\n"
     ]
    },
    {
     "data": {
      "text/plain": [
       "Parameter containing:\n",
       "tensor([[ 0.0293,  0.0026,  0.0019,  ..., -0.0297, -0.0074, -0.0311],\n",
       "        [ 0.0288,  0.0050, -0.0155,  ..., -0.0167, -0.0005, -0.0177],\n",
       "        [ 0.0092,  0.0354,  0.0162,  ...,  0.0338,  0.0273,  0.0034],\n",
       "        ...,\n",
       "        [ 0.0105,  0.0143,  0.0289,  ...,  0.0201, -0.0190,  0.0141],\n",
       "        [ 0.0013,  0.0349, -0.0348,  ..., -0.0145, -0.0121, -0.0062],\n",
       "        [-0.0238,  0.0124, -0.0283,  ..., -0.0013, -0.0309, -0.0086]],\n",
       "       requires_grad=True)"
      ]
     },
     "execution_count": 39,
     "metadata": {},
     "output_type": "execute_result"
    }
   ],
   "source": [
    "print(model[0])\n",
    "model[0].weight"
   ]
  },
  {
   "cell_type": "markdown",
   "metadata": {},
   "source": [
    "You can also pass in an `OrderedDict` to name the individual layers and operations, instead of using incremental integers. Note that dictionary keys must be unique, so _each operation must have a different name_."
   ]
  },
  {
   "cell_type": "code",
   "execution_count": 40,
   "metadata": {
    "collapsed": true
   },
   "outputs": [
    {
     "data": {
      "text/plain": [
       "Sequential(\n",
       "  (fc1): Linear(in_features=784, out_features=128, bias=True)\n",
       "  (relu1): ReLU()\n",
       "  (fc2): Linear(in_features=128, out_features=64, bias=True)\n",
       "  (relu2): ReLU()\n",
       "  (output): Linear(in_features=64, out_features=10, bias=True)\n",
       "  (softmax): Softmax(dim=1)\n",
       ")"
      ]
     },
     "execution_count": 40,
     "metadata": {},
     "output_type": "execute_result"
    }
   ],
   "source": [
    "from collections import OrderedDict\n",
    "model = nn.Sequential(OrderedDict([\n",
    "                      ('fc1', nn.Linear(input_size, hidden_sizes[0])),\n",
    "                      ('relu1', nn.ReLU()),\n",
    "                      ('fc2', nn.Linear(hidden_sizes[0], hidden_sizes[1])),\n",
    "                      ('relu2', nn.ReLU()),\n",
    "                      ('output', nn.Linear(hidden_sizes[1], output_size)),\n",
    "                      ('softmax', nn.Softmax(dim=1))]))\n",
    "model"
   ]
  },
  {
   "cell_type": "markdown",
   "metadata": {},
   "source": [
    "Now you can access layers either by integer or the name"
   ]
  },
  {
   "cell_type": "code",
   "execution_count": 41,
   "metadata": {
    "collapsed": true
   },
   "outputs": [
    {
     "name": "stdout",
     "output_type": "stream",
     "text": [
      "Linear(in_features=784, out_features=128, bias=True)\n",
      "Linear(in_features=784, out_features=128, bias=True)\n"
     ]
    }
   ],
   "source": [
    "print(model[0])\n",
    "print(model.fc1)"
   ]
  },
  {
   "cell_type": "markdown",
   "metadata": {},
   "source": [
    "In the next notebook, we'll see how we can train a neural network to accuractly predict the numbers appearing in the MNIST images."
   ]
  }
 ],
 "metadata": {
  "kernelspec": {
   "display_name": "Python [default]",
   "language": "python",
   "name": "python3"
  },
  "language_info": {
   "codemirror_mode": {
    "name": "ipython",
    "version": 3
   },
   "file_extension": ".py",
   "mimetype": "text/x-python",
   "name": "python",
   "nbconvert_exporter": "python",
   "pygments_lexer": "ipython3",
   "version": "3.10.10"
  }
 },
 "nbformat": 4,
 "nbformat_minor": 2
}
